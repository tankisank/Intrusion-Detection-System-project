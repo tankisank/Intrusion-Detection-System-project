{
 "cells": [
  {
   "cell_type": "code",
   "execution_count": 13,
   "id": "d2000220",
   "metadata": {},
   "outputs": [],
   "source": [
    "project=open(\"C:/Users/mailt/OneDrive/Desktop/project/output.csv\")"
   ]
  },
  {
   "cell_type": "code",
   "execution_count": 14,
   "id": "d0370009",
   "metadata": {},
   "outputs": [],
   "source": [
    "import os\n",
    "import pandas as pd\n",
    "import numpy as np\n",
    "import matplotlib.pyplot as plt\n",
    "import seaborn as sns\n",
    "import time"
   ]
  },
  {
   "cell_type": "code",
   "execution_count": 15,
   "id": "2a04df8c",
   "metadata": {},
   "outputs": [],
   "source": [
    "project=pd.read_csv(\"C:/Users/mailt/OneDrive/Desktop/project/output.csv\")"
   ]
  },
  {
   "cell_type": "code",
   "execution_count": 16,
   "id": "fd6fbfb0",
   "metadata": {},
   "outputs": [
    {
     "data": {
      "text/html": [
       "<div>\n",
       "<style scoped>\n",
       "    .dataframe tbody tr th:only-of-type {\n",
       "        vertical-align: middle;\n",
       "    }\n",
       "\n",
       "    .dataframe tbody tr th {\n",
       "        vertical-align: top;\n",
       "    }\n",
       "\n",
       "    .dataframe thead th {\n",
       "        text-align: right;\n",
       "    }\n",
       "</style>\n",
       "<table border=\"1\" class=\"dataframe\">\n",
       "  <thead>\n",
       "    <tr style=\"text-align: right;\">\n",
       "      <th></th>\n",
       "      <th>IP_LEN</th>\n",
       "      <th>FR_LENGHT</th>\n",
       "      <th>IP_ID</th>\n",
       "      <th>IP_RESERVED</th>\n",
       "      <th>IP_DF</th>\n",
       "      <th>IP_MF</th>\n",
       "      <th>IP_OFFSET</th>\n",
       "      <th>IP_CHECKSUM</th>\n",
       "      <th>UDP_SPORT</th>\n",
       "      <th>UDP_DPORT</th>\n",
       "      <th>...</th>\n",
       "      <th>NUM_SYN_SRC_DST</th>\n",
       "      <th>NUM_SYN_DST_SRC</th>\n",
       "      <th>NUM_RST_SRC_DST</th>\n",
       "      <th>NUM_RST_DST_SRC</th>\n",
       "      <th>COUNT_SERV_SRC_DST</th>\n",
       "      <th>COUNT_SERV_DST_SRC</th>\n",
       "      <th>NUM_BYTES_SERV_SRC_DST</th>\n",
       "      <th>NUM_BYTES_SERV_DST_SRC</th>\n",
       "      <th>FIRST_PACKET</th>\n",
       "      <th>FIRST_SERV_PACKET</th>\n",
       "    </tr>\n",
       "  </thead>\n",
       "  <tbody>\n",
       "    <tr>\n",
       "      <th>count</th>\n",
       "      <td>850877.0</td>\n",
       "      <td>850877.000000</td>\n",
       "      <td>850877.000000</td>\n",
       "      <td>850877.0</td>\n",
       "      <td>850877.000000</td>\n",
       "      <td>850877.0</td>\n",
       "      <td>850877.0</td>\n",
       "      <td>850877.000000</td>\n",
       "      <td>850877.000000</td>\n",
       "      <td>850877.000000</td>\n",
       "      <td>...</td>\n",
       "      <td>850877.000000</td>\n",
       "      <td>850877.000000</td>\n",
       "      <td>850877.000000</td>\n",
       "      <td>850877.000000</td>\n",
       "      <td>850877.000000</td>\n",
       "      <td>850877.000000</td>\n",
       "      <td>8.508770e+05</td>\n",
       "      <td>8.508770e+05</td>\n",
       "      <td>850877.000000</td>\n",
       "      <td>850877.000000</td>\n",
       "    </tr>\n",
       "    <tr>\n",
       "      <th>mean</th>\n",
       "      <td>20.0</td>\n",
       "      <td>51.526659</td>\n",
       "      <td>16413.039752</td>\n",
       "      <td>0.0</td>\n",
       "      <td>0.501198</td>\n",
       "      <td>0.0</td>\n",
       "      <td>0.0</td>\n",
       "      <td>21111.649746</td>\n",
       "      <td>4.392464</td>\n",
       "      <td>4.392463</td>\n",
       "      <td>...</td>\n",
       "      <td>211907.596789</td>\n",
       "      <td>74.126793</td>\n",
       "      <td>79.343543</td>\n",
       "      <td>211832.970951</td>\n",
       "      <td>212676.140924</td>\n",
       "      <td>212762.859076</td>\n",
       "      <td>9.434943e+06</td>\n",
       "      <td>1.295650e+07</td>\n",
       "      <td>0.499302</td>\n",
       "      <td>0.000657</td>\n",
       "    </tr>\n",
       "    <tr>\n",
       "      <th>std</th>\n",
       "      <td>0.0</td>\n",
       "      <td>115.860861</td>\n",
       "      <td>21152.459432</td>\n",
       "      <td>0.0</td>\n",
       "      <td>0.499999</td>\n",
       "      <td>0.0</td>\n",
       "      <td>0.0</td>\n",
       "      <td>17762.922582</td>\n",
       "      <td>472.760987</td>\n",
       "      <td>472.760987</td>\n",
       "      <td>...</td>\n",
       "      <td>122747.537161</td>\n",
       "      <td>6.759283</td>\n",
       "      <td>4.047610</td>\n",
       "      <td>122740.967678</td>\n",
       "      <td>122809.408062</td>\n",
       "      <td>122817.768784</td>\n",
       "      <td>4.977269e+06</td>\n",
       "      <td>7.388708e+06</td>\n",
       "      <td>0.500000</td>\n",
       "      <td>0.025623</td>\n",
       "    </tr>\n",
       "    <tr>\n",
       "      <th>min</th>\n",
       "      <td>20.0</td>\n",
       "      <td>40.000000</td>\n",
       "      <td>0.000000</td>\n",
       "      <td>0.0</td>\n",
       "      <td>0.000000</td>\n",
       "      <td>0.0</td>\n",
       "      <td>0.0</td>\n",
       "      <td>0.000000</td>\n",
       "      <td>0.000000</td>\n",
       "      <td>0.000000</td>\n",
       "      <td>...</td>\n",
       "      <td>1.000000</td>\n",
       "      <td>0.000000</td>\n",
       "      <td>0.000000</td>\n",
       "      <td>0.000000</td>\n",
       "      <td>0.000000</td>\n",
       "      <td>1.000000</td>\n",
       "      <td>0.000000e+00</td>\n",
       "      <td>6.000000e+01</td>\n",
       "      <td>0.000000</td>\n",
       "      <td>0.000000</td>\n",
       "    </tr>\n",
       "    <tr>\n",
       "      <th>25%</th>\n",
       "      <td>20.0</td>\n",
       "      <td>40.000000</td>\n",
       "      <td>0.000000</td>\n",
       "      <td>0.0</td>\n",
       "      <td>0.000000</td>\n",
       "      <td>0.0</td>\n",
       "      <td>0.0</td>\n",
       "      <td>9420.000000</td>\n",
       "      <td>0.000000</td>\n",
       "      <td>0.000000</td>\n",
       "      <td>...</td>\n",
       "      <td>105606.000000</td>\n",
       "      <td>68.000000</td>\n",
       "      <td>78.000000</td>\n",
       "      <td>105537.000000</td>\n",
       "      <td>106320.000000</td>\n",
       "      <td>106400.000000</td>\n",
       "      <td>5.108572e+06</td>\n",
       "      <td>6.558379e+06</td>\n",
       "      <td>0.000000</td>\n",
       "      <td>0.000000</td>\n",
       "    </tr>\n",
       "    <tr>\n",
       "      <th>50%</th>\n",
       "      <td>20.0</td>\n",
       "      <td>60.000000</td>\n",
       "      <td>128.000000</td>\n",
       "      <td>0.0</td>\n",
       "      <td>1.000000</td>\n",
       "      <td>0.0</td>\n",
       "      <td>0.0</td>\n",
       "      <td>9420.000000</td>\n",
       "      <td>0.000000</td>\n",
       "      <td>0.000000</td>\n",
       "      <td>...</td>\n",
       "      <td>211917.000000</td>\n",
       "      <td>74.000000</td>\n",
       "      <td>79.000000</td>\n",
       "      <td>211843.000000</td>\n",
       "      <td>212677.000000</td>\n",
       "      <td>212762.000000</td>\n",
       "      <td>9.443854e+06</td>\n",
       "      <td>1.295002e+07</td>\n",
       "      <td>0.000000</td>\n",
       "      <td>0.000000</td>\n",
       "    </tr>\n",
       "    <tr>\n",
       "      <th>75%</th>\n",
       "      <td>20.0</td>\n",
       "      <td>60.000000</td>\n",
       "      <td>32823.000000</td>\n",
       "      <td>0.0</td>\n",
       "      <td>1.000000</td>\n",
       "      <td>0.0</td>\n",
       "      <td>0.0</td>\n",
       "      <td>32815.000000</td>\n",
       "      <td>0.000000</td>\n",
       "      <td>0.000000</td>\n",
       "      <td>...</td>\n",
       "      <td>318212.000000</td>\n",
       "      <td>79.000000</td>\n",
       "      <td>80.000000</td>\n",
       "      <td>318133.000000</td>\n",
       "      <td>319033.000000</td>\n",
       "      <td>319125.000000</td>\n",
       "      <td>1.371011e+07</td>\n",
       "      <td>1.935826e+07</td>\n",
       "      <td>1.000000</td>\n",
       "      <td>0.000000</td>\n",
       "    </tr>\n",
       "    <tr>\n",
       "      <th>max</th>\n",
       "      <td>20.0</td>\n",
       "      <td>17428.000000</td>\n",
       "      <td>65535.000000</td>\n",
       "      <td>0.0</td>\n",
       "      <td>1.000000</td>\n",
       "      <td>0.0</td>\n",
       "      <td>0.0</td>\n",
       "      <td>65534.000000</td>\n",
       "      <td>60847.000000</td>\n",
       "      <td>60847.000000</td>\n",
       "      <td>...</td>\n",
       "      <td>424504.000000</td>\n",
       "      <td>86.000000</td>\n",
       "      <td>86.000000</td>\n",
       "      <td>424418.000000</td>\n",
       "      <td>425388.000000</td>\n",
       "      <td>425489.000000</td>\n",
       "      <td>1.808675e+07</td>\n",
       "      <td>2.575610e+07</td>\n",
       "      <td>1.000000</td>\n",
       "      <td>1.000000</td>\n",
       "    </tr>\n",
       "  </tbody>\n",
       "</table>\n",
       "<p>8 rows × 47 columns</p>\n",
       "</div>"
      ],
      "text/plain": [
       "         IP_LEN      FR_LENGHT          IP_ID  IP_RESERVED          IP_DF  \\\n",
       "count  850877.0  850877.000000  850877.000000     850877.0  850877.000000   \n",
       "mean       20.0      51.526659   16413.039752          0.0       0.501198   \n",
       "std         0.0     115.860861   21152.459432          0.0       0.499999   \n",
       "min        20.0      40.000000       0.000000          0.0       0.000000   \n",
       "25%        20.0      40.000000       0.000000          0.0       0.000000   \n",
       "50%        20.0      60.000000     128.000000          0.0       1.000000   \n",
       "75%        20.0      60.000000   32823.000000          0.0       1.000000   \n",
       "max        20.0   17428.000000   65535.000000          0.0       1.000000   \n",
       "\n",
       "          IP_MF  IP_OFFSET    IP_CHECKSUM      UDP_SPORT      UDP_DPORT  ...  \\\n",
       "count  850877.0   850877.0  850877.000000  850877.000000  850877.000000  ...   \n",
       "mean        0.0        0.0   21111.649746       4.392464       4.392463  ...   \n",
       "std         0.0        0.0   17762.922582     472.760987     472.760987  ...   \n",
       "min         0.0        0.0       0.000000       0.000000       0.000000  ...   \n",
       "25%         0.0        0.0    9420.000000       0.000000       0.000000  ...   \n",
       "50%         0.0        0.0    9420.000000       0.000000       0.000000  ...   \n",
       "75%         0.0        0.0   32815.000000       0.000000       0.000000  ...   \n",
       "max         0.0        0.0   65534.000000   60847.000000   60847.000000  ...   \n",
       "\n",
       "       NUM_SYN_SRC_DST  NUM_SYN_DST_SRC  NUM_RST_SRC_DST  NUM_RST_DST_SRC  \\\n",
       "count    850877.000000    850877.000000    850877.000000    850877.000000   \n",
       "mean     211907.596789        74.126793        79.343543    211832.970951   \n",
       "std      122747.537161         6.759283         4.047610    122740.967678   \n",
       "min           1.000000         0.000000         0.000000         0.000000   \n",
       "25%      105606.000000        68.000000        78.000000    105537.000000   \n",
       "50%      211917.000000        74.000000        79.000000    211843.000000   \n",
       "75%      318212.000000        79.000000        80.000000    318133.000000   \n",
       "max      424504.000000        86.000000        86.000000    424418.000000   \n",
       "\n",
       "       COUNT_SERV_SRC_DST  COUNT_SERV_DST_SRC  NUM_BYTES_SERV_SRC_DST  \\\n",
       "count       850877.000000       850877.000000            8.508770e+05   \n",
       "mean        212676.140924       212762.859076            9.434943e+06   \n",
       "std         122809.408062       122817.768784            4.977269e+06   \n",
       "min              0.000000            1.000000            0.000000e+00   \n",
       "25%         106320.000000       106400.000000            5.108572e+06   \n",
       "50%         212677.000000       212762.000000            9.443854e+06   \n",
       "75%         319033.000000       319125.000000            1.371011e+07   \n",
       "max         425388.000000       425489.000000            1.808675e+07   \n",
       "\n",
       "       NUM_BYTES_SERV_DST_SRC   FIRST_PACKET  FIRST_SERV_PACKET  \n",
       "count            8.508770e+05  850877.000000      850877.000000  \n",
       "mean             1.295650e+07       0.499302           0.000657  \n",
       "std              7.388708e+06       0.500000           0.025623  \n",
       "min              6.000000e+01       0.000000           0.000000  \n",
       "25%              6.558379e+06       0.000000           0.000000  \n",
       "50%              1.295002e+07       0.000000           0.000000  \n",
       "75%              1.935826e+07       1.000000           0.000000  \n",
       "max              2.575610e+07       1.000000           1.000000  \n",
       "\n",
       "[8 rows x 47 columns]"
      ]
     },
     "execution_count": 16,
     "metadata": {},
     "output_type": "execute_result"
    }
   ],
   "source": [
    "project.describe()"
   ]
  },
  {
   "cell_type": "code",
   "execution_count": 17,
   "id": "75c0bd2c",
   "metadata": {},
   "outputs": [],
   "source": [
    "cols=list(project.columns)"
   ]
  },
  {
   "cell_type": "code",
   "execution_count": 39,
   "id": "f6d19cf7",
   "metadata": {},
   "outputs": [
    {
     "data": {
      "text/plain": [
       "51"
      ]
     },
     "execution_count": 39,
     "metadata": {},
     "output_type": "execute_result"
    }
   ],
   "source": [
    "len(cols)"
   ]
  },
  {
   "cell_type": "code",
   "execution_count": 19,
   "id": "3f4304ef",
   "metadata": {},
   "outputs": [
    {
     "data": {
      "text/plain": [
       "IP_TYPE                   0\n",
       "IP_LEN                    0\n",
       "FR_LENGHT                 0\n",
       "IP_ID                     0\n",
       "IP_RESERVED               0\n",
       "IP_DF                     0\n",
       "IP_MF                     0\n",
       "IP_OFFSET                 0\n",
       "IP_PROTO                  0\n",
       "IP_CHECKSUM               0\n",
       "UDP_SPORT                 0\n",
       "UDP_DPORT                 0\n",
       "UDP_LEN                   0\n",
       "UDP_CHK                   0\n",
       "ICMP_TYPE                 0\n",
       "ICMP_CODE                 0\n",
       "ICMP_CHK                  0\n",
       "TCP_SPORT                 0\n",
       "TCP_DPORT                 0\n",
       "TCP_SEQ                   0\n",
       "TCP_ACK                   0\n",
       "TCP_FFIN                  0\n",
       "TCP_FSYN                  0\n",
       "TCP_FRST                  0\n",
       "TCP_FPUSH                 0\n",
       "TCP_FACK                  0\n",
       "TCP_FURG                  0\n",
       "COUNT_FR_SRC_DST          0\n",
       "COUNT_FR_DST_SRC          0\n",
       "NUM_BYTES_SRC_DST         0\n",
       "NUM_BYTES_DST_SRC         0\n",
       "NUM_PUSHED_SRC_DST        0\n",
       "NUM_PUSHED_DST_SRC        0\n",
       "NUM_SYN_FIN_SRC_DST       0\n",
       "NUM_SYN_FIN_DST_SRC       0\n",
       "NUM_FIN_SRC_DST           0\n",
       "NUM_FIN_DST_SRC           0\n",
       "NUM_ACK_SRC_DST           0\n",
       "NUM_ACK_DST_SRC           0\n",
       "NUM_SYN_SRC_DST           0\n",
       "NUM_SYN_DST_SRC           0\n",
       "NUM_RST_SRC_DST           0\n",
       "NUM_RST_DST_SRC           0\n",
       "COUNT_SERV_SRC_DST        0\n",
       "COUNT_SERV_DST_SRC        0\n",
       "NUM_BYTES_SERV_SRC_DST    0\n",
       "NUM_BYTES_SERV_DST_SRC    0\n",
       "FIRST_PACKET              0\n",
       "FIRST_SERV_PACKET         0\n",
       "CONN_STATUS               0\n",
       "TYPE                      0\n",
       "dtype: int64"
      ]
     },
     "execution_count": 19,
     "metadata": {},
     "output_type": "execute_result"
    }
   ],
   "source": [
    "project.isnull().sum()"
   ]
  },
  {
   "cell_type": "code",
   "execution_count": 20,
   "id": "5daf5ef6",
   "metadata": {},
   "outputs": [],
   "source": [
    "\n",
    "from sklearn.model_selection import train_test_split\n",
    "from sklearn.preprocessing import MinMaxScaler\n",
    "\n"
   ]
  },
  {
   "cell_type": "code",
   "execution_count": 26,
   "id": "a0a4e115",
   "metadata": {},
   "outputs": [],
   "source": [
    "y=project[['TYPE']]\n",
    "x=project.drop(['CONN_STATUS','IP_TYPE','TYPE','IP_PROTO'],axis=1)"
   ]
  },
  {
   "cell_type": "code",
   "execution_count": 27,
   "id": "25b6e09c",
   "metadata": {},
   "outputs": [
    {
     "name": "stdout",
     "output_type": "stream",
     "text": [
      "(570087, 47) (280790, 47)\n",
      "(570087, 1) (280790, 1)\n"
     ]
    }
   ],
   "source": [
    "sc = MinMaxScaler()\n",
    "x = sc.fit_transform(x)\n",
    "  \n",
    "# Split test and train data \n",
    "X_train, X_test, y_train, y_test = train_test_split(x, y, test_size = 0.33, random_state = 42)\n",
    "print(X_train.shape, X_test.shape)\n",
    "print(y_train.shape, y_test.shape)"
   ]
  },
  {
   "cell_type": "code",
   "execution_count": 28,
   "id": "70c2c70f",
   "metadata": {},
   "outputs": [
    {
     "name": "stdout",
     "output_type": "stream",
     "text": [
      "Training time:  1.4003424644470215\n"
     ]
    }
   ],
   "source": [
    "\n",
    "# Gaussian Naive Bayes\n",
    "from sklearn.naive_bayes import GaussianNB\n",
    "from sklearn.metrics import accuracy_score\n",
    "\n",
    "clfg = GaussianNB()\n",
    "start_time = time.time()\n",
    "clfg.fit(X_train, y_train.values.ravel())\n",
    "end_time = time.time()\n",
    "print(\"Training time: \", end_time-start_time)\n",
    "\n"
   ]
  },
  {
   "cell_type": "code",
   "execution_count": 29,
   "id": "0113dab0",
   "metadata": {},
   "outputs": [
    {
     "name": "stdout",
     "output_type": "stream",
     "text": [
      "Testing time:  0.6752591133117676\n"
     ]
    }
   ],
   "source": [
    "\n",
    "start_time = time.time()\n",
    "y_test_pred = clfg.predict(X_train)\n",
    "end_time = time.time()\n",
    "print(\"Testing time: \", end_time-start_time)\n",
    "\n"
   ]
  },
  {
   "cell_type": "code",
   "execution_count": 30,
   "id": "22b33898",
   "metadata": {},
   "outputs": [
    {
     "name": "stdout",
     "output_type": "stream",
     "text": [
      "Train score is: 1.0\n",
      "Test score is: 0.999996438619609\n"
     ]
    }
   ],
   "source": [
    "\n",
    "print(\"Train score is:\", clfg.score(X_train, y_train))\n",
    "print(\"Test score is:\", clfg.score(X_test, y_test))\n",
    "\n"
   ]
  },
  {
   "cell_type": "code",
   "execution_count": 31,
   "id": "e3f143da",
   "metadata": {},
   "outputs": [
    {
     "name": "stdout",
     "output_type": "stream",
     "text": [
      "Training time:  4.782802581787109\n"
     ]
    }
   ],
   "source": [
    "\n",
    "# Decision Tree\n",
    "from sklearn.tree import DecisionTreeClassifier\n",
    "\n",
    "clfd = DecisionTreeClassifier(criterion =\"entropy\", max_depth = 4)\n",
    "start_time = time.time()\n",
    "clfd.fit(X_train, y_train.values.ravel())\n",
    "end_time = time.time()\n",
    "print(\"Training time: \", end_time-start_time)\n",
    "\n"
   ]
  },
  {
   "cell_type": "code",
   "execution_count": 32,
   "id": "c30cdd52",
   "metadata": {},
   "outputs": [
    {
     "name": "stdout",
     "output_type": "stream",
     "text": [
      "Testing time:  0.10425496101379395\n"
     ]
    }
   ],
   "source": [
    "\n",
    "start_time = time.time()\n",
    "y_test_pred = clfd.predict(X_train)\n",
    "end_time = time.time()\n",
    "print(\"Testing time: \", end_time-start_time)\n",
    "\n"
   ]
  },
  {
   "cell_type": "code",
   "execution_count": 33,
   "id": "fd050ecb",
   "metadata": {},
   "outputs": [
    {
     "name": "stdout",
     "output_type": "stream",
     "text": [
      "Train score is: 1.0\n",
      "Test score is: 1.0\n"
     ]
    }
   ],
   "source": [
    "\n",
    "print(\"Train score is:\", clfd.score(X_train, y_train))\n",
    "print(\"Test score is:\", clfd.score(X_test, y_test))\n",
    "\n"
   ]
  },
  {
   "cell_type": "code",
   "execution_count": 34,
   "id": "61c1baa7",
   "metadata": {},
   "outputs": [
    {
     "name": "stdout",
     "output_type": "stream",
     "text": [
      "Training time:  17.364877939224243\n"
     ]
    }
   ],
   "source": [
    "\n",
    "from sklearn.ensemble import RandomForestClassifier\n",
    "\n",
    "clfr = RandomForestClassifier(n_estimators = 30)\n",
    "start_time = time.time()\n",
    "clfr.fit(X_train, y_train.values.ravel())\n",
    "end_time = time.time()\n",
    "print(\"Training time: \", end_time-start_time)\n",
    "\n"
   ]
  },
  {
   "cell_type": "code",
   "execution_count": 35,
   "id": "9c32c9dd",
   "metadata": {},
   "outputs": [
    {
     "name": "stdout",
     "output_type": "stream",
     "text": [
      "Testing time:  1.3357117176055908\n"
     ]
    }
   ],
   "source": [
    "\n",
    "start_time = time.time()\n",
    "y_test_pred = clfr.predict(X_train)\n",
    "end_time = time.time()\n",
    "print(\"Testing time: \", end_time-start_time)\n",
    "\n",
    "\n"
   ]
  },
  {
   "cell_type": "code",
   "execution_count": 36,
   "id": "4a1edb1d",
   "metadata": {},
   "outputs": [
    {
     "name": "stdout",
     "output_type": "stream",
     "text": [
      "Train score is: 1.0\n",
      "Test score is: 1.0\n"
     ]
    }
   ],
   "source": [
    "\n",
    "print(\"Train score is:\", clfr.score(X_train, y_train))\n",
    "print(\"Test score is:\", clfr.score(X_test, y_test))\n",
    "\n"
   ]
  },
  {
   "cell_type": "code",
   "execution_count": 37,
   "id": "0266ca24",
   "metadata": {},
   "outputs": [
    {
     "name": "stdout",
     "output_type": "stream",
     "text": [
      "Training time:  10.982370853424072\n",
      "Testing time:  11.376929521560669\n",
      "Train score is: 1.0\n",
      "Test score is: 1.0\n"
     ]
    }
   ],
   "source": [
    "from sklearn.svm import SVC\n",
    "  \n",
    "clfs = SVC(gamma = 'scale')\n",
    "start_time = time.time()\n",
    "clfs.fit(X_train, y_train.values.ravel())\n",
    "end_time = time.time()\n",
    "print(\"Training time: \", end_time-start_time)\n",
    "\n",
    "start_time = time.time()\n",
    "y_test_pred = clfs.predict(X_train)\n",
    "end_time = time.time()\n",
    "print(\"Testing time: \", end_time-start_time)\n",
    "\n",
    "print(\"Train score is:\", clfs.score(X_train, y_train))\n",
    "print(\"Test score is:\", clfs.score(X_test, y_test))"
   ]
  },
  {
   "cell_type": "code",
   "execution_count": 38,
   "id": "b38aeaee",
   "metadata": {},
   "outputs": [
    {
     "name": "stdout",
     "output_type": "stream",
     "text": [
      "Training time:  4.442620754241943\n",
      "Testing time:  0.07507705688476562\n",
      "Train score is: 0.9999982458817689\n",
      "Test score is: 1.0\n"
     ]
    }
   ],
   "source": [
    "from sklearn.linear_model import LogisticRegression\n",
    "  \n",
    "clfl = LogisticRegression(max_iter = 1200000)\n",
    "start_time = time.time()\n",
    "clfl.fit(X_train, y_train.values.ravel())\n",
    "end_time = time.time()\n",
    "print(\"Training time: \", end_time-start_time)\n",
    "\n",
    "start_time = time.time()\n",
    "y_test_pred = clfl.predict(X_train)\n",
    "end_time = time.time()\n",
    "print(\"Testing time: \", end_time-start_time)\n",
    "\n",
    "\n",
    "print(\"Train score is:\", clfl.score(X_train, y_train))\n",
    "print(\"Test score is:\", clfl.score(X_test, y_test))\n",
    "\n"
   ]
  },
  {
   "cell_type": "code",
   "execution_count": null,
   "id": "70462e56",
   "metadata": {},
   "outputs": [],
   "source": []
  }
 ],
 "metadata": {
  "kernelspec": {
   "display_name": "Python 3.9.12 ('base')",
   "language": "python",
   "name": "python3"
  },
  "language_info": {
   "codemirror_mode": {
    "name": "ipython",
    "version": 3
   },
   "file_extension": ".py",
   "mimetype": "text/x-python",
   "name": "python",
   "nbconvert_exporter": "python",
   "pygments_lexer": "ipython3",
   "version": "3.9.12"
  },
  "vscode": {
   "interpreter": {
    "hash": "3bc0fb6e8dc1af12185aa3538907a3eb79b5aebe1f7dee50a0edb5650259b347"
   }
  }
 },
 "nbformat": 4,
 "nbformat_minor": 5
}
